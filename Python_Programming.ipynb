{
  "nbformat": 4,
  "nbformat_minor": 0,
  "metadata": {
    "colab": {
      "name": "Copy of [Project_1]_Introduction_to_Python_Programming.ipynb",
      "provenance": [],
      "toc_visible": true,
      "collapsed_sections": []
    },
    "kernelspec": {
      "name": "python3",
      "display_name": "Python 3"
    },
    "language_info": {
      "name": "python"
    }
  },
  "cells": [
    {
      "cell_type": "markdown",
      "metadata": {
        "id": "C0MVEA2p5aPF"
      },
      "source": [
        "# Project [1]: Python Basics for Data Science"
      ]
    },
    {
      "cell_type": "markdown",
      "metadata": {
        "id": "iMj2wcK7RguK"
      },
      "source": [
        "## Problem Statement"
      ]
    },
    {
      "cell_type": "markdown",
      "metadata": {
        "id": "jhuHe8gDRii4"
      },
      "source": [
        "Create a program that performs some computation using the python programming language.\n",
        "Tigo Telcom provides a mobile subscription plan with 200 minutes of airtime and 200 text messages for `$10` a month. Each additional minute of air time costs `$.03`, and other text messages cost `$.001` each. The customer's bill is also subject to 14% VAT Tax. Write a python program that will read the no. of minutes and text messages used in a month, then displays the base charge, additional minutes (if any), other text messages (if any), the tax charged, and the total bill.\n",
        "A few things to note:\n",
        "* Your input should be in the form of a dictionary.\n",
        "* Your output should be more like an SMS message.\n",
        "* Display the charges in 2 decimal places.\n",
        "\n"
      ]
    },
    {
      "cell_type": "markdown",
      "metadata": {
        "id": "Rw1bfo1LdiBa"
      },
      "source": [
        "## Solution"
      ]
    },
    {
      "cell_type": "code",
      "metadata": {
        "id": "tMq41k-e5VNR"
      },
      "source": [
        "# Defining our dictionary\n",
        "# ---\n",
        "# We will create a dictionary of input data with the following keys: \n",
        "# minutes_used, minutes_included, texts_used, texts_included, \n",
        "# monthly_plan, costperminute, cost_per_sms, vat_tax.\n",
        "# ---\n",
        "mobile_sub = {'minutes_used': 200, 'minutes_included': 200,\n",
        "              'texts_used': 300, 'texts_included':200,\n",
        "               'monthly_plan':10, 'cost_per_minute':0.03, 'cost_per_sms': 0.001,\n",
        "               'vat_tax': 0.14 \n",
        "               }"
      ],
      "execution_count": null,
      "outputs": []
    },
    {
      "cell_type": "code",
      "metadata": {
        "id": "b0p2faHi5eHP",
        "colab": {
          "base_uri": "https://localhost:8080/"
        },
        "outputId": "12b13dae-9dc9-4722-e590-eaf687005a4d"
      },
      "source": [
        "# Defining a function that takes in the dictionary and provides output\n",
        "def getCharges(input_data):\n",
        "    '''\n",
        "    Function receives a dictionary containing minutes_used and\n",
        "    text_used as key/value pairs and returns a string\n",
        "    describing a breakdown of the charges applied\n",
        "    based on the values received.\n",
        "    '''\n",
        "\n",
        "    basecharge = input_data['monthly_plan']\n",
        "\n",
        "    minutes_used = input_data['minutes_used']\n",
        "    texts_used = input_data['texts_used']\n",
        "\n",
        "    minutes_included = input_data['minutes_included']\n",
        "    texts_included = input_data['texts_included']\n",
        "\n",
        "    \n",
        "    # Performing different actions based on the conditions indicated in the question.\n",
        "    if minutes_used > minutes_included:\n",
        "        aditional_minutes = minutes_used - minutes_included\n",
        "        basecharge = basecharge + (aditional_minutes * input_data['cost_per_minute'] )\n",
        "        \n",
        "    if texts_used > texts_included:\n",
        "        aditional_texts = texts_used - texts_included\n",
        "        basecharge = basecharge + (aditional_texts * input_data['cost_per_sms'])\n",
        "        \n",
        "    VAT_TAX = basecharge * input_data['vat_tax']\n",
        "    basecharge += VAT_TAX\n",
        "    \n",
        "    # round of base charge to 2 decimal places. \n",
        "    finalCharges =  round( basecharge, 2) \n",
        "\n",
        "    #  f string formatting to create a string\n",
        "    output_string = f\"Dear customer, You are subscribed to monthly {minutes_included} Minutes and {texts_included} sms for ${input_data['monthly_plan']}. Your monthly usage is {minutes_used} Minutes and {texts_used} sms. Total cost tax inclusive is : ${finalCharges}\"\n",
        "\n",
        "    # the returning the output string\n",
        "    return print(output_string)\n",
        "        \n",
        "# Then calling our function and passing our dictionary\n",
        "getCharges(mobile_sub)"
      ],
      "execution_count": null,
      "outputs": [
        {
          "output_type": "stream",
          "name": "stdout",
          "text": [
            "Dear customer, You are subscribed to monthly 200 Minutes and 200 sms for $10. Your monthly usage is 200 Minutes and 300 sms. Total cost tax inclusive is : $11.51\n"
          ]
        }
      ]
    }
  ]
}